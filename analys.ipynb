{
 "cells": [
  {
   "cell_type": "markdown",
   "id": "404e4536",
   "metadata": {},
   "source": [
    "## Задача 1\n",
    "\n",
    "Рассчитать Retention и создать функцию, которая будет вычислять Retention игроков, учитывая количество дней с момента их регистрации.\n",
    "\n",
    "**reg_data.csv** – данные о времени регистрации\n",
    "\n",
    "**auth_data.csv** – данные о времени захода пользователей в игру\n"
   ]
  },
  {
   "cell_type": "code",
   "execution_count": 2,
   "id": "8ca1d9a5",
   "metadata": {},
   "outputs": [],
   "source": [
    "# импортируем необходимые для работы библиотеки\n",
    "import pandas as pd\n",
    "import numpy as np\n",
    "import seaborn as sns\n",
    "from datetime import datetime\n",
    "import matplotlib.pyplot as plt\n",
    "%matplotlib inline\n",
    "import pingouin as pg\n",
    "from scipy import stats\n",
    "from scipy.stats import ttest_ind"
   ]
  },
  {
   "cell_type": "code",
   "execution_count": 3,
   "id": "359c32bc",
   "metadata": {},
   "outputs": [
    {
     "data": {
      "text/html": [
       "<div>\n",
       "<style scoped>\n",
       "    .dataframe tbody tr th:only-of-type {\n",
       "        vertical-align: middle;\n",
       "    }\n",
       "\n",
       "    .dataframe tbody tr th {\n",
       "        vertical-align: top;\n",
       "    }\n",
       "\n",
       "    .dataframe thead th {\n",
       "        text-align: right;\n",
       "    }\n",
       "</style>\n",
       "<table border=\"1\" class=\"dataframe\">\n",
       "  <thead>\n",
       "    <tr style=\"text-align: right;\">\n",
       "      <th></th>\n",
       "      <th>reg_ts</th>\n",
       "      <th>uid</th>\n",
       "    </tr>\n",
       "  </thead>\n",
       "  <tbody>\n",
       "    <tr>\n",
       "      <th>0</th>\n",
       "      <td>911382223</td>\n",
       "      <td>1</td>\n",
       "    </tr>\n",
       "    <tr>\n",
       "      <th>1</th>\n",
       "      <td>932683089</td>\n",
       "      <td>2</td>\n",
       "    </tr>\n",
       "    <tr>\n",
       "      <th>2</th>\n",
       "      <td>947802447</td>\n",
       "      <td>3</td>\n",
       "    </tr>\n",
       "    <tr>\n",
       "      <th>3</th>\n",
       "      <td>959523541</td>\n",
       "      <td>4</td>\n",
       "    </tr>\n",
       "    <tr>\n",
       "      <th>4</th>\n",
       "      <td>969103313</td>\n",
       "      <td>5</td>\n",
       "    </tr>\n",
       "  </tbody>\n",
       "</table>\n",
       "</div>"
      ],
      "text/plain": [
       "      reg_ts  uid\n",
       "0  911382223    1\n",
       "1  932683089    2\n",
       "2  947802447    3\n",
       "3  959523541    4\n",
       "4  969103313    5"
      ]
     },
     "execution_count": 3,
     "metadata": {},
     "output_type": "execute_result"
    }
   ],
   "source": [
    "# загружаем файлы в датафрейме и смотрим на данные\n",
    "reg_data = pd.read_csv(\"problem1-reg_data.csv\", sep=\";\")\n",
    "reg_data.head()"
   ]
  },
  {
   "cell_type": "code",
   "execution_count": 4,
   "id": "405eab74",
   "metadata": {},
   "outputs": [
    {
     "data": {
      "text/html": [
       "<div>\n",
       "<style scoped>\n",
       "    .dataframe tbody tr th:only-of-type {\n",
       "        vertical-align: middle;\n",
       "    }\n",
       "\n",
       "    .dataframe tbody tr th {\n",
       "        vertical-align: top;\n",
       "    }\n",
       "\n",
       "    .dataframe thead th {\n",
       "        text-align: right;\n",
       "    }\n",
       "</style>\n",
       "<table border=\"1\" class=\"dataframe\">\n",
       "  <thead>\n",
       "    <tr style=\"text-align: right;\">\n",
       "      <th></th>\n",
       "      <th>auth_ts</th>\n",
       "      <th>uid</th>\n",
       "    </tr>\n",
       "  </thead>\n",
       "  <tbody>\n",
       "    <tr>\n",
       "      <th>0</th>\n",
       "      <td>911382223</td>\n",
       "      <td>1</td>\n",
       "    </tr>\n",
       "    <tr>\n",
       "      <th>1</th>\n",
       "      <td>932683089</td>\n",
       "      <td>2</td>\n",
       "    </tr>\n",
       "    <tr>\n",
       "      <th>2</th>\n",
       "      <td>932921206</td>\n",
       "      <td>2</td>\n",
       "    </tr>\n",
       "    <tr>\n",
       "      <th>3</th>\n",
       "      <td>933393015</td>\n",
       "      <td>2</td>\n",
       "    </tr>\n",
       "    <tr>\n",
       "      <th>4</th>\n",
       "      <td>933875379</td>\n",
       "      <td>2</td>\n",
       "    </tr>\n",
       "  </tbody>\n",
       "</table>\n",
       "</div>"
      ],
      "text/plain": [
       "     auth_ts  uid\n",
       "0  911382223    1\n",
       "1  932683089    2\n",
       "2  932921206    2\n",
       "3  933393015    2\n",
       "4  933875379    2"
      ]
     },
     "execution_count": 4,
     "metadata": {},
     "output_type": "execute_result"
    }
   ],
   "source": [
    "auth_data = pd.read_csv(\"problem1-auth_data.csv\", sep=\";\")\n",
    "auth_data.head()"
   ]
  },
  {
   "cell_type": "markdown",
   "id": "7e49cf04",
   "metadata": {},
   "source": [
    "Проводим предообработку данных, которые мы загрузили"
   ]
  },
  {
   "cell_type": "code",
   "execution_count": 6,
   "id": "2189d9fc",
   "metadata": {},
   "outputs": [
    {
     "name": "stdout",
     "output_type": "stream",
     "text": [
      "<class 'pandas.core.frame.DataFrame'>\n",
      "RangeIndex: 1000000 entries, 0 to 999999\n",
      "Data columns (total 2 columns):\n",
      " #   Column  Non-Null Count    Dtype\n",
      "---  ------  --------------    -----\n",
      " 0   reg_ts  1000000 non-null  int64\n",
      " 1   uid     1000000 non-null  int64\n",
      "dtypes: int64(2)\n",
      "memory usage: 15.3 MB\n"
     ]
    }
   ],
   "source": [
    "reg_data.info()"
   ]
  },
  {
   "cell_type": "code",
   "execution_count": 7,
   "id": "86d6c4bc",
   "metadata": {},
   "outputs": [
    {
     "data": {
      "text/plain": [
       "reg_ts    0\n",
       "uid       0\n",
       "dtype: int64"
      ]
     },
     "execution_count": 7,
     "metadata": {},
     "output_type": "execute_result"
    }
   ],
   "source": [
    "reg_data.isna().sum()"
   ]
  },
  {
   "cell_type": "code",
   "execution_count": 8,
   "id": "aca5bf76",
   "metadata": {},
   "outputs": [
    {
     "name": "stdout",
     "output_type": "stream",
     "text": [
      "<class 'pandas.core.frame.DataFrame'>\n",
      "RangeIndex: 9601013 entries, 0 to 9601012\n",
      "Data columns (total 2 columns):\n",
      " #   Column   Dtype\n",
      "---  ------   -----\n",
      " 0   auth_ts  int64\n",
      " 1   uid      int64\n",
      "dtypes: int64(2)\n",
      "memory usage: 146.5 MB\n"
     ]
    }
   ],
   "source": [
    "auth_data.info()"
   ]
  },
  {
   "cell_type": "code",
   "execution_count": 9,
   "id": "af1f3b8a",
   "metadata": {},
   "outputs": [
    {
     "data": {
      "text/plain": [
       "auth_ts    0\n",
       "uid        0\n",
       "dtype: int64"
      ]
     },
     "execution_count": 9,
     "metadata": {},
     "output_type": "execute_result"
    }
   ],
   "source": [
    "auth_data.isna().sum()"
   ]
  },
  {
   "cell_type": "code",
   "execution_count": 10,
   "id": "143a5a6f",
   "metadata": {},
   "outputs": [
    {
     "data": {
      "text/plain": [
       "1000000"
      ]
     },
     "execution_count": 10,
     "metadata": {},
     "output_type": "execute_result"
    }
   ],
   "source": [
    "auth_data.uid.nunique() # смотрим сколько у нас уникальных пользователей"
   ]
  },
  {
   "cell_type": "markdown",
   "id": "21afe428",
   "metadata": {},
   "source": [
    "Отлично, пропущенных значений у нас нет. Переведем данные `reg_ts` и  `auth_ts` в формат даты, так как данные у нас указаны в Unix формате и посмотрим за какой период у нас дата сеты. "
   ]
  },
  {
   "cell_type": "code",
   "execution_count": 11,
   "id": "5b71d385",
   "metadata": {},
   "outputs": [
    {
     "data": {
      "text/html": [
       "<div>\n",
       "<style scoped>\n",
       "    .dataframe tbody tr th:only-of-type {\n",
       "        vertical-align: middle;\n",
       "    }\n",
       "\n",
       "    .dataframe tbody tr th {\n",
       "        vertical-align: top;\n",
       "    }\n",
       "\n",
       "    .dataframe thead th {\n",
       "        text-align: right;\n",
       "    }\n",
       "</style>\n",
       "<table border=\"1\" class=\"dataframe\">\n",
       "  <thead>\n",
       "    <tr style=\"text-align: right;\">\n",
       "      <th></th>\n",
       "      <th>reg_ts</th>\n",
       "      <th>uid</th>\n",
       "    </tr>\n",
       "  </thead>\n",
       "  <tbody>\n",
       "    <tr>\n",
       "      <th>0</th>\n",
       "      <td>1998-11-18 09:43:43</td>\n",
       "      <td>1</td>\n",
       "    </tr>\n",
       "    <tr>\n",
       "      <th>1</th>\n",
       "      <td>1999-07-22 22:38:09</td>\n",
       "      <td>2</td>\n",
       "    </tr>\n",
       "    <tr>\n",
       "      <th>2</th>\n",
       "      <td>2000-01-13 22:27:27</td>\n",
       "      <td>3</td>\n",
       "    </tr>\n",
       "    <tr>\n",
       "      <th>3</th>\n",
       "      <td>2000-05-28 14:19:01</td>\n",
       "      <td>4</td>\n",
       "    </tr>\n",
       "    <tr>\n",
       "      <th>4</th>\n",
       "      <td>2000-09-16 11:21:53</td>\n",
       "      <td>5</td>\n",
       "    </tr>\n",
       "  </tbody>\n",
       "</table>\n",
       "</div>"
      ],
      "text/plain": [
       "               reg_ts  uid\n",
       "0 1998-11-18 09:43:43    1\n",
       "1 1999-07-22 22:38:09    2\n",
       "2 2000-01-13 22:27:27    3\n",
       "3 2000-05-28 14:19:01    4\n",
       "4 2000-09-16 11:21:53    5"
      ]
     },
     "execution_count": 11,
     "metadata": {},
     "output_type": "execute_result"
    }
   ],
   "source": [
    "reg_data[\"reg_ts\"] = pd.to_datetime(reg_data[\"reg_ts\"], unit='s')\n",
    "reg_data.head()"
   ]
  },
  {
   "cell_type": "code",
   "execution_count": 12,
   "id": "030fb627",
   "metadata": {},
   "outputs": [
    {
     "data": {
      "text/plain": [
       "reg_ts    datetime64[ns]\n",
       "uid                int64\n",
       "dtype: object"
      ]
     },
     "execution_count": 12,
     "metadata": {},
     "output_type": "execute_result"
    }
   ],
   "source": [
    "reg_data.dtypes"
   ]
  },
  {
   "cell_type": "code",
   "execution_count": 13,
   "id": "129b9627",
   "metadata": {},
   "outputs": [
    {
     "data": {
      "text/plain": [
       "Timestamp('1998-11-18 09:43:43')"
      ]
     },
     "execution_count": 13,
     "metadata": {},
     "output_type": "execute_result"
    }
   ],
   "source": [
    "reg_data.reg_ts.min()"
   ]
  },
  {
   "cell_type": "code",
   "execution_count": 14,
   "id": "74437684",
   "metadata": {},
   "outputs": [
    {
     "data": {
      "text/plain": [
       "Timestamp('2020-09-23 15:17:24')"
      ]
     },
     "execution_count": 14,
     "metadata": {},
     "output_type": "execute_result"
    }
   ],
   "source": [
    "reg_data.reg_ts.max()"
   ]
  },
  {
   "cell_type": "code",
   "execution_count": 15,
   "id": "357a335d",
   "metadata": {},
   "outputs": [],
   "source": [
    "auth_data[\"auth_ts\"] = pd.to_datetime(auth_data[\"auth_ts\"], unit='s')"
   ]
  },
  {
   "cell_type": "code",
   "execution_count": 16,
   "id": "fcdb5a56",
   "metadata": {},
   "outputs": [
    {
     "data": {
      "text/plain": [
       "Timestamp('2020-09-23 15:17:24')"
      ]
     },
     "execution_count": 16,
     "metadata": {},
     "output_type": "execute_result"
    }
   ],
   "source": [
    "auth_data.auth_ts.max()"
   ]
  },
  {
   "cell_type": "code",
   "execution_count": 17,
   "id": "10d6767d",
   "metadata": {},
   "outputs": [
    {
     "data": {
      "text/plain": [
       "Timestamp('1998-11-18 09:43:43')"
      ]
     },
     "execution_count": 17,
     "metadata": {},
     "output_type": "execute_result"
    }
   ],
   "source": [
    "auth_data.auth_ts.min()"
   ]
  },
  {
   "cell_type": "markdown",
   "id": "a3c1b8f2",
   "metadata": {},
   "source": [
    "Пишем функцию для расчета  retention, так как период данных большой сделаем функцию с параметрами выбора промежутка дат"
   ]
  },
  {
   "cell_type": "code",
   "execution_count": 18,
   "id": "ec097aed",
   "metadata": {},
   "outputs": [],
   "source": [
    "def retention(reg_data, auth_data, start_date, end_date):\n",
    "    \n",
    "    '''\n",
    "    Для подсчета retention функция будет принимать четыре параметра:\n",
    "    reg_data - данные о времени регистрации\n",
    "    auth_data -  данные о времени захода пользователей в игру\n",
    "    start date - начальная дата \n",
    "    end date - конечная дата\n",
    "    '''\n",
    "    \n",
    "    #Переводим дату из Unix формата в datetime64\n",
    "  \n",
    "    reg_data[\"reg_ts\"] = pd.to_datetime(reg_data[\"reg_ts\"], unit='s').dt.normalize()\n",
    "    auth_data[\"auth_ts\"] = pd.to_datetime(auth_data[\"auth_ts\"], unit='s').dt.normalize()\n",
    "     \n",
    "    \n",
    "    #Объединяем данные из двух таблиц в одну:\n",
    "    \n",
    "    reg_data =  reg_data.query(\"reg_ts >= @start_date\")\n",
    "    auth_data = auth_data.query(\"auth_ts <= @end_date\")\n",
    "    join_data = pd.merge(reg_data, auth_data, on=\"uid\")\n",
    "    \n",
    "   \n",
    "    #Добавлялем новый столбец с разницей в днях между регистрацией и входа:\n",
    "    join_data ['days'] = (join_data['auth_ts'] - join_data['reg_ts']).dt.days \n",
    "    \n",
    "    #Группируем когорты\n",
    "    join_data = join_data\\\n",
    "        .groupby(['reg_ts', 'days'], as_index = False)\\\n",
    "        .agg({'uid':'nunique'}) \\\n",
    "        .pivot(index='reg_ts', columns='days', values='uid')\n",
    "        \n",
    "    #Рассчитаем retention\n",
    "    retention = join_data.divide(join_data.iloc[:,0], axis=0).round(4)\n",
    "    \n",
    "   # Делаем визуализацию результатов\n",
    "    plt.figure(figsize=(20,10))\n",
    "    ax = sns.heatmap(retention, vmax=0.1, vmin=0.0, annot=True, fmt='.2%', cmap='coolwarm')\n",
    "    plt.title(' Retention', size= 15)\n",
    "    plt.xlabel('days',size= 12)\n",
    "    plt.ylabel('сohorts', size= 12)\n",
    "    plt.show()"
   ]
  },
  {
   "cell_type": "markdown",
   "id": "8e168a2b",
   "metadata": {},
   "source": [
    "Проверяем нашу функцию"
   ]
  },
  {
   "cell_type": "code",
   "execution_count": 19,
   "id": "ee796529",
   "metadata": {},
   "outputs": [
    {
     "data": {
      "image/png": "[encoded data removed]",
      "text/plain": [
       "<Figure size 2000x1000 with 2 Axes>"
      ]
     },
     "metadata": {},
     "output_type": "display_data"
    }
   ],
   "source": [
    "retention(reg_data, auth_data, '2018-04-01', '2018-04-15')"
   ]
  },
  {
   "cell_type": "markdown",
   "id": "50b00833",
   "metadata": {},
   "source": [
    "# Задача 2\n",
    "\n",
    "Имеются результаты A/B теста, в котором двум группам пользователей предлагались различные наборы акционных предложений. Известно, что ARPU в тестовой группе выше на 5%, чем в контрольной. При этом в контрольной группе 1928 игроков из 202103 оказались платящими, а в тестовой – 1805 из 202667.\n",
    "\n",
    "Требуется ответить на следующие вопросы:\n",
    "* Какой набор предложений можно считать лучшим? \n",
    "* Какие метрики стоит проанализировать для принятия правильного решения и как?"
   ]
  },
  {
   "cell_type": "code",
   "execution_count": 20,
   "id": "af8a1b7f",
   "metadata": {},
   "outputs": [
    {
     "data": {
      "text/html": [
       "<div>\n",
       "<style scoped>\n",
       "    .dataframe tbody tr th:only-of-type {\n",
       "        vertical-align: middle;\n",
       "    }\n",
       "\n",
       "    .dataframe tbody tr th {\n",
       "        vertical-align: top;\n",
       "    }\n",
       "\n",
       "    .dataframe thead th {\n",
       "        text-align: right;\n",
       "    }\n",
       "</style>\n",
       "<table border=\"1\" class=\"dataframe\">\n",
       "  <thead>\n",
       "    <tr style=\"text-align: right;\">\n",
       "      <th></th>\n",
       "      <th>user_id</th>\n",
       "      <th>revenue</th>\n",
       "      <th>testgroup</th>\n",
       "    </tr>\n",
       "  </thead>\n",
       "  <tbody>\n",
       "    <tr>\n",
       "      <th>0</th>\n",
       "      <td>1</td>\n",
       "      <td>0</td>\n",
       "      <td>b</td>\n",
       "    </tr>\n",
       "    <tr>\n",
       "      <th>1</th>\n",
       "      <td>2</td>\n",
       "      <td>0</td>\n",
       "      <td>a</td>\n",
       "    </tr>\n",
       "    <tr>\n",
       "      <th>2</th>\n",
       "      <td>3</td>\n",
       "      <td>0</td>\n",
       "      <td>a</td>\n",
       "    </tr>\n",
       "    <tr>\n",
       "      <th>3</th>\n",
       "      <td>4</td>\n",
       "      <td>0</td>\n",
       "      <td>b</td>\n",
       "    </tr>\n",
       "    <tr>\n",
       "      <th>4</th>\n",
       "      <td>5</td>\n",
       "      <td>0</td>\n",
       "      <td>b</td>\n",
       "    </tr>\n",
       "  </tbody>\n",
       "</table>\n",
       "</div>"
      ],
      "text/plain": [
       "   user_id  revenue testgroup\n",
       "0        1        0         b\n",
       "1        2        0         a\n",
       "2        3        0         a\n",
       "3        4        0         b\n",
       "4        5        0         b"
      ]
     },
     "execution_count": 20,
     "metadata": {},
     "output_type": "execute_result"
    }
   ],
   "source": [
    "# загружаем данные и смотрим наего структуру\n",
    "ab_df = pd.read_csv('Проект_1_Задание_2.csv', sep=';')\n",
    "ab_df.head()"
   ]
  },
  {
   "cell_type": "code",
   "execution_count": 21,
   "id": "447745b0",
   "metadata": {},
   "outputs": [
    {
     "data": {
      "text/plain": [
       "(404770, 3)"
      ]
     },
     "execution_count": 21,
     "metadata": {},
     "output_type": "execute_result"
    }
   ],
   "source": [
    "ab_df.shape"
   ]
  },
  {
   "cell_type": "code",
   "execution_count": 22,
   "id": "a19c9da4",
   "metadata": {},
   "outputs": [
    {
     "data": {
      "text/plain": [
       "user_id      0\n",
       "revenue      0\n",
       "testgroup    0\n",
       "dtype: int64"
      ]
     },
     "execution_count": 22,
     "metadata": {},
     "output_type": "execute_result"
    }
   ],
   "source": [
    "ab_df.isna().sum()"
   ]
  },
  {
   "cell_type": "code",
   "execution_count": 23,
   "id": "6b3ed6a1",
   "metadata": {},
   "outputs": [
    {
     "data": {
      "text/plain": [
       "user_id      404770\n",
       "revenue        1477\n",
       "testgroup         2\n",
       "dtype: int64"
      ]
     },
     "execution_count": 23,
     "metadata": {},
     "output_type": "execute_result"
    }
   ],
   "source": [
    "ab_df.nunique()"
   ]
  },
  {
   "cell_type": "code",
   "execution_count": 24,
   "id": "aeb79b42",
   "metadata": {},
   "outputs": [
    {
     "name": "stdout",
     "output_type": "stream",
     "text": [
      "<class 'pandas.core.frame.DataFrame'>\n",
      "RangeIndex: 404770 entries, 0 to 404769\n",
      "Data columns (total 3 columns):\n",
      " #   Column     Non-Null Count   Dtype \n",
      "---  ------     --------------   ----- \n",
      " 0   user_id    404770 non-null  int64 \n",
      " 1   revenue    404770 non-null  int64 \n",
      " 2   testgroup  404770 non-null  object\n",
      "dtypes: int64(2), object(1)\n",
      "memory usage: 9.3+ MB\n"
     ]
    }
   ],
   "source": [
    "ab_df.info()"
   ]
  },
  {
   "cell_type": "markdown",
   "id": "f382062f",
   "metadata": {},
   "source": [
    "Проверяем условия которые нам были даны. Данные по количеству игроков в группе и сколько из них являются платящими."
   ]
  },
  {
   "cell_type": "code",
   "execution_count": 25,
   "id": "ce079076",
   "metadata": {},
   "outputs": [
    {
     "data": {
      "text/html": [
       "<div>\n",
       "<style scoped>\n",
       "    .dataframe tbody tr th:only-of-type {\n",
       "        vertical-align: middle;\n",
       "    }\n",
       "\n",
       "    .dataframe tbody tr th {\n",
       "        vertical-align: top;\n",
       "    }\n",
       "\n",
       "    .dataframe thead th {\n",
       "        text-align: right;\n",
       "    }\n",
       "</style>\n",
       "<table border=\"1\" class=\"dataframe\">\n",
       "  <thead>\n",
       "    <tr style=\"text-align: right;\">\n",
       "      <th></th>\n",
       "      <th>testgroup</th>\n",
       "      <th>user_id</th>\n",
       "    </tr>\n",
       "  </thead>\n",
       "  <tbody>\n",
       "    <tr>\n",
       "      <th>0</th>\n",
       "      <td>a</td>\n",
       "      <td>202103</td>\n",
       "    </tr>\n",
       "    <tr>\n",
       "      <th>1</th>\n",
       "      <td>b</td>\n",
       "      <td>202667</td>\n",
       "    </tr>\n",
       "  </tbody>\n",
       "</table>\n",
       "</div>"
      ],
      "text/plain": [
       "  testgroup  user_id\n",
       "0         a   202103\n",
       "1         b   202667"
      ]
     },
     "execution_count": 25,
     "metadata": {},
     "output_type": "execute_result"
    }
   ],
   "source": [
    "ab_df.groupby('testgroup', as_index=False) \\\n",
    "    .agg({'user_id':'nunique'})"
   ]
  },
  {
   "cell_type": "code",
   "execution_count": 26,
   "id": "513cf224",
   "metadata": {},
   "outputs": [
    {
     "data": {
      "text/html": [
       "<div>\n",
       "<style scoped>\n",
       "    .dataframe tbody tr th:only-of-type {\n",
       "        vertical-align: middle;\n",
       "    }\n",
       "\n",
       "    .dataframe tbody tr th {\n",
       "        vertical-align: top;\n",
       "    }\n",
       "\n",
       "    .dataframe thead th {\n",
       "        text-align: right;\n",
       "    }\n",
       "</style>\n",
       "<table border=\"1\" class=\"dataframe\">\n",
       "  <thead>\n",
       "    <tr style=\"text-align: right;\">\n",
       "      <th></th>\n",
       "      <th>testgroup</th>\n",
       "      <th>user_id</th>\n",
       "    </tr>\n",
       "  </thead>\n",
       "  <tbody>\n",
       "    <tr>\n",
       "      <th>0</th>\n",
       "      <td>a</td>\n",
       "      <td>1928</td>\n",
       "    </tr>\n",
       "    <tr>\n",
       "      <th>1</th>\n",
       "      <td>b</td>\n",
       "      <td>1805</td>\n",
       "    </tr>\n",
       "  </tbody>\n",
       "</table>\n",
       "</div>"
      ],
      "text/plain": [
       "  testgroup  user_id\n",
       "0         a     1928\n",
       "1         b     1805"
      ]
     },
     "execution_count": 26,
     "metadata": {},
     "output_type": "execute_result"
    }
   ],
   "source": [
    "ab_df.query('revenue > 0') \\\n",
    "    .groupby('testgroup', as_index=False) \\\n",
    "    .agg({'user_id':'nunique'})"
   ]
  },
  {
   "cell_type": "markdown",
   "id": "8b12bd15",
   "metadata": {},
   "source": [
    "Всё отлично, данные совпадают с предоставленными данными. Также можем сделать выводы, что контрольная группа это группа A, тестовая группа это группа B."
   ]
  },
  {
   "cell_type": "markdown",
   "id": "4876f9e7",
   "metadata": {},
   "source": [
    "Хочу посмотреть на распределение групп по платящим клиентам, так как различия небольшие"
   ]
  },
  {
   "cell_type": "code",
   "execution_count": 27,
   "id": "e155d928",
   "metadata": {},
   "outputs": [
    {
     "data": {
      "image/png": "[encoded data removed]",
      "text/plain": [
       "<Figure size 800x400 with 1 Axes>"
      ]
     },
     "metadata": {},
     "output_type": "display_data"
    }
   ],
   "source": [
    "plt.figure(figsize=(8, 4))\n",
    "sns.histplot(data=ab_df.query('revenue > 0'), x='revenue', hue='testgroup', kde=True)\n",
    "sns.despine()"
   ]
  },
  {
   "cell_type": "markdown",
   "id": "d8ce6075",
   "metadata": {},
   "source": [
    "На графике распределения чека игроков в контрольной и тестовой группах видно следующее: в контрольной группе наблюдается более равномерное распределение чека игроков, включая и игроков с небольшим чеком, а также с очень большим. В тестовой группе, напротив, чек игроков в основном находится в диапазоне до 5000.\n",
    "\n",
    "В связи с этим я предполагаю, что сплитирование групп в А/А тесте могло быть выполнено неправильно, что может повлиять на достоверность результатов. В любом случае, мы уже провели А/В тест и я хотел бы проанализировать метрики ARPU, ARPPU и CR для определения, какие изменения в акционных предложениях привели к наиболее эффективным результатам.\n",
    "\n",
    "Делаем расчет вышеуказанных метрик:"
   ]
  },
  {
   "cell_type": "code",
   "execution_count": 28,
   "id": "5e27bdfc",
   "metadata": {},
   "outputs": [
    {
     "data": {
      "text/html": [
       "<div>\n",
       "<style scoped>\n",
       "    .dataframe tbody tr th:only-of-type {\n",
       "        vertical-align: middle;\n",
       "    }\n",
       "\n",
       "    .dataframe tbody tr th {\n",
       "        vertical-align: top;\n",
       "    }\n",
       "\n",
       "    .dataframe thead th {\n",
       "        text-align: right;\n",
       "    }\n",
       "</style>\n",
       "<table border=\"1\" class=\"dataframe\">\n",
       "  <thead>\n",
       "    <tr style=\"text-align: right;\">\n",
       "      <th></th>\n",
       "      <th>testgroup</th>\n",
       "      <th>user_id</th>\n",
       "      <th>ARPU</th>\n",
       "    </tr>\n",
       "  </thead>\n",
       "  <tbody>\n",
       "    <tr>\n",
       "      <th>0</th>\n",
       "      <td>a</td>\n",
       "      <td>202103</td>\n",
       "      <td>25.41</td>\n",
       "    </tr>\n",
       "    <tr>\n",
       "      <th>1</th>\n",
       "      <td>b</td>\n",
       "      <td>202667</td>\n",
       "      <td>26.75</td>\n",
       "    </tr>\n",
       "  </tbody>\n",
       "</table>\n",
       "</div>"
      ],
      "text/plain": [
       "  testgroup  user_id   ARPU\n",
       "0         a   202103  25.41\n",
       "1         b   202667  26.75"
      ]
     },
     "execution_count": 28,
     "metadata": {},
     "output_type": "execute_result"
    }
   ],
   "source": [
    "ab_arpu = ab_df.groupby ('testgroup', as_index = False)\\\n",
    "    .agg({'user_id' : 'count', 'revenue':'mean'})\\\n",
    "    .round(2) \\\n",
    "    .rename(columns = {'revenue': 'ARPU'})\n",
    "ab_arpu"
   ]
  },
  {
   "cell_type": "code",
   "execution_count": 29,
   "id": "44f4801e",
   "metadata": {},
   "outputs": [
    {
     "data": {
      "text/html": [
       "<div>\n",
       "<style scoped>\n",
       "    .dataframe tbody tr th:only-of-type {\n",
       "        vertical-align: middle;\n",
       "    }\n",
       "\n",
       "    .dataframe tbody tr th {\n",
       "        vertical-align: top;\n",
       "    }\n",
       "\n",
       "    .dataframe thead th {\n",
       "        text-align: right;\n",
       "    }\n",
       "</style>\n",
       "<table border=\"1\" class=\"dataframe\">\n",
       "  <thead>\n",
       "    <tr style=\"text-align: right;\">\n",
       "      <th></th>\n",
       "      <th>testgroup</th>\n",
       "      <th>pay_user</th>\n",
       "      <th>ARPPU</th>\n",
       "    </tr>\n",
       "  </thead>\n",
       "  <tbody>\n",
       "    <tr>\n",
       "      <th>0</th>\n",
       "      <td>a</td>\n",
       "      <td>1928</td>\n",
       "      <td>2664.00</td>\n",
       "    </tr>\n",
       "    <tr>\n",
       "      <th>1</th>\n",
       "      <td>b</td>\n",
       "      <td>1805</td>\n",
       "      <td>3003.66</td>\n",
       "    </tr>\n",
       "  </tbody>\n",
       "</table>\n",
       "</div>"
      ],
      "text/plain": [
       "  testgroup  pay_user    ARPPU\n",
       "0         a      1928  2664.00\n",
       "1         b      1805  3003.66"
      ]
     },
     "execution_count": 29,
     "metadata": {},
     "output_type": "execute_result"
    }
   ],
   "source": [
    "ab_arppu = ab_df.query('revenue > 0') \\\n",
    "    .groupby ('testgroup', as_index = False)\\\n",
    "    .agg({'user_id' : 'count', 'revenue':'mean'})\\\n",
    "    .round(2) \\\n",
    "    .rename(columns = {'revenue': 'ARPPU', 'user_id': 'pay_user'})\n",
    "ab_arppu"
   ]
  },
  {
   "cell_type": "markdown",
   "id": "c6b175d6",
   "metadata": {},
   "source": [
    "Объединим таблицы ab_arpu и ab_arppu посчитаем CR и выведем для удобства все метри в одну таблицу"
   ]
  },
  {
   "cell_type": "code",
   "execution_count": 30,
   "id": "393fe3d9",
   "metadata": {},
   "outputs": [
    {
     "data": {
      "text/html": [
       "<div>\n",
       "<style scoped>\n",
       "    .dataframe tbody tr th:only-of-type {\n",
       "        vertical-align: middle;\n",
       "    }\n",
       "\n",
       "    .dataframe tbody tr th {\n",
       "        vertical-align: top;\n",
       "    }\n",
       "\n",
       "    .dataframe thead th {\n",
       "        text-align: right;\n",
       "    }\n",
       "</style>\n",
       "<table border=\"1\" class=\"dataframe\">\n",
       "  <thead>\n",
       "    <tr style=\"text-align: right;\">\n",
       "      <th></th>\n",
       "      <th>testgroup</th>\n",
       "      <th>user_id</th>\n",
       "      <th>ARPU</th>\n",
       "      <th>pay_user</th>\n",
       "      <th>ARPPU</th>\n",
       "      <th>CR</th>\n",
       "    </tr>\n",
       "  </thead>\n",
       "  <tbody>\n",
       "    <tr>\n",
       "      <th>0</th>\n",
       "      <td>a</td>\n",
       "      <td>202103</td>\n",
       "      <td>25.41</td>\n",
       "      <td>1928</td>\n",
       "      <td>2664.00</td>\n",
       "      <td>0.95</td>\n",
       "    </tr>\n",
       "    <tr>\n",
       "      <th>1</th>\n",
       "      <td>b</td>\n",
       "      <td>202667</td>\n",
       "      <td>26.75</td>\n",
       "      <td>1805</td>\n",
       "      <td>3003.66</td>\n",
       "      <td>0.89</td>\n",
       "    </tr>\n",
       "  </tbody>\n",
       "</table>\n",
       "</div>"
      ],
      "text/plain": [
       "  testgroup  user_id   ARPU  pay_user    ARPPU    CR\n",
       "0         a   202103  25.41      1928  2664.00  0.95\n",
       "1         b   202667  26.75      1805  3003.66  0.89"
      ]
     },
     "execution_count": 30,
     "metadata": {},
     "output_type": "execute_result"
    }
   ],
   "source": [
    "metrics = ab_arpu.merge(ab_arppu, on = 'testgroup')\n",
    "metrics['CR'] = (metrics.pay_user/metrics.user_id).mul(100).round(2)\n",
    "metrics"
   ]
  },
  {
   "cell_type": "markdown",
   "id": "a4f886d0",
   "metadata": {},
   "source": [
    "Из полученных данных мы видим, что ARPU и ARPPU в тестовой группе выше, но при этом CR в контрольной группе выше и платящих игроков в ней больше. "
   ]
  },
  {
   "cell_type": "markdown",
   "id": "eac78c47",
   "metadata": {},
   "source": [
    "Теперь проведем тесты и выясним есть ли статистически значимые различия в метриках между группами. Для этого сначала проверим данные на нормальность и гомогенность."
   ]
  },
  {
   "cell_type": "markdown",
   "id": "efb8cd6d",
   "metadata": {},
   "source": [
    "Посмотрим на результаты и сравним есть ли статистически значимые различия ARPU между группами"
   ]
  },
  {
   "cell_type": "code",
   "execution_count": 31,
   "id": "62f112c1",
   "metadata": {},
   "outputs": [
    {
     "data": {
      "text/html": [
       "<div>\n",
       "<style scoped>\n",
       "    .dataframe tbody tr th:only-of-type {\n",
       "        vertical-align: middle;\n",
       "    }\n",
       "\n",
       "    .dataframe tbody tr th {\n",
       "        vertical-align: top;\n",
       "    }\n",
       "\n",
       "    .dataframe thead th {\n",
       "        text-align: right;\n",
       "    }\n",
       "</style>\n",
       "<table border=\"1\" class=\"dataframe\">\n",
       "  <thead>\n",
       "    <tr style=\"text-align: right;\">\n",
       "      <th></th>\n",
       "      <th>W</th>\n",
       "      <th>pval</th>\n",
       "      <th>normal</th>\n",
       "    </tr>\n",
       "    <tr>\n",
       "      <th>testgroup</th>\n",
       "      <th></th>\n",
       "      <th></th>\n",
       "      <th></th>\n",
       "    </tr>\n",
       "  </thead>\n",
       "  <tbody>\n",
       "    <tr>\n",
       "      <th>b</th>\n",
       "      <td>326622.395409</td>\n",
       "      <td>0.0</td>\n",
       "      <td>False</td>\n",
       "    </tr>\n",
       "    <tr>\n",
       "      <th>a</th>\n",
       "      <td>585152.731273</td>\n",
       "      <td>0.0</td>\n",
       "      <td>False</td>\n",
       "    </tr>\n",
       "  </tbody>\n",
       "</table>\n",
       "</div>"
      ],
      "text/plain": [
       "                       W  pval  normal\n",
       "testgroup                             \n",
       "b          326622.395409   0.0   False\n",
       "a          585152.731273   0.0   False"
      ]
     },
     "execution_count": 31,
     "metadata": {},
     "output_type": "execute_result"
    }
   ],
   "source": [
    "# проводим тест на нормальность распределения\n",
    "pg.normality(data = ab_df, dv = \"revenue\", group = \"testgroup\", method = \"normaltest\")"
   ]
  },
  {
   "cell_type": "markdown",
   "id": "60d7b7d0",
   "metadata": {},
   "source": [
    "По результатам теста мы видим, что в обеих группах p-value < 0.05 это говорит о том, что данные распределены ненормально."
   ]
  },
  {
   "cell_type": "code",
   "execution_count": 32,
   "id": "5a694e5b",
   "metadata": {},
   "outputs": [
    {
     "data": {
      "text/html": [
       "<div>\n",
       "<style scoped>\n",
       "    .dataframe tbody tr th:only-of-type {\n",
       "        vertical-align: middle;\n",
       "    }\n",
       "\n",
       "    .dataframe tbody tr th {\n",
       "        vertical-align: top;\n",
       "    }\n",
       "\n",
       "    .dataframe thead th {\n",
       "        text-align: right;\n",
       "    }\n",
       "</style>\n",
       "<table border=\"1\" class=\"dataframe\">\n",
       "  <thead>\n",
       "    <tr style=\"text-align: right;\">\n",
       "      <th></th>\n",
       "      <th>W</th>\n",
       "      <th>pval</th>\n",
       "      <th>equal_var</th>\n",
       "    </tr>\n",
       "  </thead>\n",
       "  <tbody>\n",
       "    <tr>\n",
       "      <th>levene</th>\n",
       "      <td>0.389629</td>\n",
       "      <td>0.532495</td>\n",
       "      <td>True</td>\n",
       "    </tr>\n",
       "  </tbody>\n",
       "</table>\n",
       "</div>"
      ],
      "text/plain": [
       "               W      pval  equal_var\n",
       "levene  0.389629  0.532495       True"
      ]
     },
     "execution_count": 32,
     "metadata": {},
     "output_type": "execute_result"
    }
   ],
   "source": [
    "# Делаем тест на гомогенность данных\n",
    "pg.homoscedasticity(data = ab_df, dv = \"revenue\", group = \"testgroup\")"
   ]
  },
  {
   "cell_type": "markdown",
   "id": "de040568",
   "metadata": {},
   "source": [
    "На основании полученных данных  буду использовать T-тест, потому что данные у нас гомогенны, а то что распределение у нас ненормально это не является стоп фактором, так как у нас выборки большие и работает принцип центральной предельной теоремы.\n",
    "Сформулируем гипотезы:\n",
    "\n",
    "Н0 - нет статистически значимых различий между контрольной и тестовой групп\n",
    "\n",
    "Н1 - есть статистически значимые различия между контрольной и тестовой групп"
   ]
  },
  {
   "cell_type": "code",
   "execution_count": 34,
   "id": "72602418",
   "metadata": {},
   "outputs": [
    {
     "data": {
      "text/plain": [
       "Ttest_indResult(statistic=-0.6242026493616787, pvalue=0.532494858971837)"
      ]
     },
     "execution_count": 34,
     "metadata": {},
     "output_type": "execute_result"
    }
   ],
   "source": [
    "ttest_ind(ab_df.query('testgroup == \"a\"').revenue, \n",
    "          ab_df.query('testgroup == \"b\"').revenue)"
   ]
  },
  {
   "cell_type": "markdown",
   "id": "a9bd7e59",
   "metadata": {},
   "source": [
    "Поскольку p-значение больше 0,05, мы отклонить Н0 гипотезу не можем и делаем вывод, что статистически значимых различий между ARPU контрольной и тестовой групп нет."
   ]
  },
  {
   "cell_type": "markdown",
   "id": "b25b714d",
   "metadata": {},
   "source": [
    "Посмотрим на метрику ARPPU, также применим Т-тест "
   ]
  },
  {
   "cell_type": "code",
   "execution_count": 35,
   "id": "f7b3e050",
   "metadata": {},
   "outputs": [
    {
     "data": {
      "text/plain": [
       "Ttest_indResult(statistic=-1.5917100176862005, pvalue=0.11153459157259496)"
      ]
     },
     "execution_count": 35,
     "metadata": {},
     "output_type": "execute_result"
    }
   ],
   "source": [
    "ttest_ind(ab_df.query('testgroup == \"a\" and revenue > 0').revenue, \n",
    "          ab_df.query('testgroup == \"b\" and revenue > 0').revenue) "
   ]
  },
  {
   "cell_type": "markdown",
   "id": "a58ea947",
   "metadata": {},
   "source": [
    "Результаты теста показали также p-значение больше 0,05, и делаем вывод, что также статистически значимых различий между ARPPU контрольной и тестовой групп нет. Отклонить Н0 гипотезу мы не можем."
   ]
  },
  {
   "cell_type": "markdown",
   "id": "373ccebd",
   "metadata": {},
   "source": [
    "Теперь посмотрим метрику CR как на нее повлияли различные наборы акционных предложений и если статистически значимые различия между группами. Для проверки буду использовать критерий Хи-квадрат, так как сравниваются две категориальные переменные."
   ]
  },
  {
   "cell_type": "code",
   "execution_count": 36,
   "id": "a2986c46",
   "metadata": {},
   "outputs": [
    {
     "data": {
      "text/html": [
       "<div>\n",
       "<style scoped>\n",
       "    .dataframe tbody tr th:only-of-type {\n",
       "        vertical-align: middle;\n",
       "    }\n",
       "\n",
       "    .dataframe tbody tr th {\n",
       "        vertical-align: top;\n",
       "    }\n",
       "\n",
       "    .dataframe thead th {\n",
       "        text-align: right;\n",
       "    }\n",
       "</style>\n",
       "<table border=\"1\" class=\"dataframe\">\n",
       "  <thead>\n",
       "    <tr style=\"text-align: right;\">\n",
       "      <th></th>\n",
       "      <th>user_id</th>\n",
       "      <th>revenue</th>\n",
       "      <th>testgroup</th>\n",
       "      <th>conversion</th>\n",
       "    </tr>\n",
       "  </thead>\n",
       "  <tbody>\n",
       "    <tr>\n",
       "      <th>0</th>\n",
       "      <td>1</td>\n",
       "      <td>0</td>\n",
       "      <td>b</td>\n",
       "      <td>0</td>\n",
       "    </tr>\n",
       "    <tr>\n",
       "      <th>1</th>\n",
       "      <td>2</td>\n",
       "      <td>0</td>\n",
       "      <td>a</td>\n",
       "      <td>0</td>\n",
       "    </tr>\n",
       "    <tr>\n",
       "      <th>2</th>\n",
       "      <td>3</td>\n",
       "      <td>0</td>\n",
       "      <td>a</td>\n",
       "      <td>0</td>\n",
       "    </tr>\n",
       "    <tr>\n",
       "      <th>3</th>\n",
       "      <td>4</td>\n",
       "      <td>0</td>\n",
       "      <td>b</td>\n",
       "      <td>0</td>\n",
       "    </tr>\n",
       "    <tr>\n",
       "      <th>4</th>\n",
       "      <td>5</td>\n",
       "      <td>0</td>\n",
       "      <td>b</td>\n",
       "      <td>0</td>\n",
       "    </tr>\n",
       "  </tbody>\n",
       "</table>\n",
       "</div>"
      ],
      "text/plain": [
       "   user_id  revenue testgroup  conversion\n",
       "0        1        0         b           0\n",
       "1        2        0         a           0\n",
       "2        3        0         a           0\n",
       "3        4        0         b           0\n",
       "4        5        0         b           0"
      ]
     },
     "execution_count": 36,
     "metadata": {},
     "output_type": "execute_result"
    }
   ],
   "source": [
    "# добавлялет дополнительный столбик conversion\n",
    "ab_df['conversion'] = ab_df['revenue'].apply(lambda x: 1 if x > 0 else 0)\n",
    "ab_df.head()"
   ]
  },
  {
   "cell_type": "code",
   "execution_count": 37,
   "id": "a535f731",
   "metadata": {},
   "outputs": [
    {
     "data": {
      "text/plain": [
       "0.03647561892312613"
      ]
     },
     "execution_count": 37,
     "metadata": {},
     "output_type": "execute_result"
    }
   ],
   "source": [
    "stat, p, dof, expected = stats.chi2_contingency(pd.crosstab(ab_df.testgroup, ab_df.conversion))\n",
    "p"
   ]
  },
  {
   "cell_type": "markdown",
   "id": "3e545c28",
   "metadata": {},
   "source": [
    "В результате у нас получилось p-значение меньше 0.05, мы отклоняем нулевую гипотезу и делаем вывод, что набор акционных предложений влияет на показатель CR."
   ]
  },
  {
   "cell_type": "markdown",
   "id": "f6e82e6d",
   "metadata": {},
   "source": [
    "## Вывод:\n",
    "\n",
    "После проведения исследований в контрольной и тестовой группах по метрикам ARPU, ARPPU и CR, сложно однозначно определить, какие наборы акционных предложений можно считать лучшими. Анализ показал, что статистически значимых различий в ARPU и ARPPU между группами не обнаружено. Единственные различия были выявлены в метрике Conversion Rate (CR), однако только на основе этой метрики сложно сделать выводы и утверждать, какие наборы предложений были более успешными.\n",
    "\n",
    "Также возникает предположение о неправильном сплитировании групп, что могло повлиять на достоверность результатов A/B теста. Возможно, необходимо корректировать сплитирование групп и провести новый A/B тест для получения более точных результатов. После анализа новых данных и результатов нового теста можно будет принять обоснованное решение относительно наилучших наборов акционных предложений."
   ]
  }
 ],
 "metadata": {
  "kernelspec": {
   "display_name": "Python 3 (ipykernel)",
   "language": "python",
   "name": "python3"
  },
  "language_info": {
   "codemirror_mode": {
    "name": "ipython",
    "version": 3
   },
   "file_extension": ".py",
   "mimetype": "text/x-python",
   "name": "python",
   "nbconvert_exporter": "python",
   "pygments_lexer": "ipython3",
   "version": "3.9.13"
  }
 },
 "nbformat": 4,
 "nbformat_minor": 5
}
